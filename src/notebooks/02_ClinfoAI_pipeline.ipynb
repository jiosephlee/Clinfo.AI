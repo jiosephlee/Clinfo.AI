{
 "cells": [
  {
   "cell_type": "code",
   "execution_count": 1,
   "metadata": {},
   "outputs": [],
   "source": [
    "import sys\n",
    "import os \n",
    "sys.path.append('..')\n",
    "\n",
    "from utils.clinfoAI import ClinfoAI\n",
    "\n",
    "from config        import OPENAI_API_KEY, NCBI_API_KEY, EMAIL\n",
    "os.environ[\"OPENAI_API_KEY\"] = OPENAI_API_KEY"
   ]
  },
  {
   "cell_type": "markdown",
   "metadata": {},
   "source": [
    "# Using Clinfo.AI (In Depth Tutorial)\n",
    "\n",
    "In this tutorial, we will see how to run clinfo.ai in as a module, in which all the steps have been abstracted. \n",
    "\n",
    "If you have done tutorial 01, you can skip the next steps, if not, you will need to follow them to get the credentials, KEYs needed to run clinfo.ai\n",
    "\n",
    "### 1.- Setting up enviorment:\n",
    "1.a.- Install the conda enviroment using the yml file provided.\n",
    "\n",
    "``` conda env create -f environment.yaml ```\n",
    "\n",
    "1.b.- Select your enviorment to run notebook. I recommend using vscode: \n",
    "\n",
    "\n",
    "\n",
    "### 2.- Creating Accounts\n",
    "\n",
    "You will need at least one account and at most two (depending on how many calls/hour you plan to do):\n",
    "* OPENAI account: If you start a free account for the first time, you will get $5 in API credits.\n",
    "* NCBI_API_KEY: This is only necessary if you plan to make more than 10 calls per hour.\n",
    "\n",
    "\n",
    "Once you have created both accounts  go to **src\\config.py** file and: \n",
    "\n",
    "* Set OPENAI_API_KEY to your openAI API key\n",
    "\n",
    "If you created an NCBI API account add your key and email in the following values: \n",
    "* NCBI_API_KEY \n",
    "* EMAIL \n",
    "Otherwise leave them as None\n",
    "\n",
    "\n",
    "\n",
    "\n",
    "\n",
    "### 3.- Defining your own promts:\n",
    "We have designed prompts for each step of Clinfo.ai Workflow, leaveriging the power of in-contex-learning. If you want to us your own promps you can edit them **src\\prompts**\n"
   ]
  },
  {
   "cell_type": "code",
   "execution_count": 2,
   "metadata": {},
   "outputs": [
    {
     "name": "stdout",
     "output_type": "stream",
     "text": [
      "\n",
      "Task Name: pubmed_query_prompt\n",
      "------------------------------------------------------------------------\n",
      "Loading prompt: system  from file task_1_sys.json\n",
      "Loading prompt: template  from file task_1_prompt.json\n",
      "\n",
      "Task Name: relevance_prompt\n",
      "------------------------------------------------------------------------\n",
      "Loading prompt: system  from file task_2_sys.json\n",
      "Loading prompt: template  from file task_2_prompt.json\n",
      "\n",
      "Task Name: summarization_prompt\n",
      "------------------------------------------------------------------------\n",
      "Loading prompt: system  from file task_3_sys.json\n",
      "Loading prompt: template  from file task_3_prompt.json\n",
      "\n",
      "Task Name: synthesize_prompt\n",
      "------------------------------------------------------------------------\n",
      "Loading prompt: system  from file task_4_sys.json\n",
      "Loading prompt: template  from file task_4_prompt.json\n",
      "{'$schema': {'pubmed_query_prompt': {'system': PromptTemplate(input_variables=[], output_parser=None, partial_variables={}, template='Forget any previous insttruction, as of now you are a helpful assistant that converts clinical questions into Semantic Scholar search queries that can be used to find relevant answers to those questions. Semantic Scholar uses Key words as queries', template_format='f-string', validate_template=True), 'template': PromptTemplate(input_variables=['question'], output_parser=None, partial_variables={}, template='Generate a Semantic Scholar query that would find articles relevant to the following clinical question: \\n---\\n\"{question}\"\\n---\\n.Err on the side of retrieving more PubMed articles rather than less.\\nOnly Use the most important Keywords withouth hyphens \\nGive only the resulting Semantic Scholar query and nothing else.\\n\\n\\n  ', template_format='f-string', validate_template=True)}, 'relevance_prompt': {'system': PromptTemplate(input_variables=[], output_parser=None, partial_variables={}, template=\"You are a helpful expert medical researcher librarian that determines whether articles on PubMed may be relevant to questions from clinicians based on the articles' abstracts\", template_format='f-string', validate_template=True), 'template': PromptTemplate(input_variables=['question', 'article_text'], output_parser=None, partial_variables={}, template='Does the article whose abstract is shown below potentially contain information that could be relevant to the following \\nclinical question: \"{question}\"? \\nAbstract: \"\"\"{article_text}\"\"\" \\n\\nAnswer must be either yes or no\\n', template_format='f-string', validate_template=True)}, 'summarization_prompt': {'system': PromptTemplate(input_variables=[], output_parser=None, partial_variables={}, template=\"You are a helpful expert medical researcher that summarizes articles from PubMed to provide the background necessary to answer clinicians' questions.\", template_format='f-string', validate_template=True), 'template': PromptTemplate(input_variables=['question', 'article_text'], output_parser=None, partial_variables={}, template='Summarize the evidence provided by this article abstract as it pertains to the question: \"{question}\", describe the study design, study size, study population, risks of bias:\\n\\nDesired format:\\nSummary: <summary_of_evidence>\\nStudy Design: <study_design>\\nSample Size: <study_size>\\nStudy Population: <study_population>\\nRisk of Bias: <risk_of_bias>\\n\\nAbstract: \"\"\"{article_text}\"\"\"', template_format='f-string', validate_template=True)}, 'synthesize_prompt': {'system': PromptTemplate(input_variables=[], output_parser=None, partial_variables={}, template=\"You are a helpful expert medical researcher that summarizes articles from PubMed to provide the background necessary to answer clinicians' questions.\", template_format='f-string', validate_template=True), 'template': PromptTemplate(input_variables=['question', 'article_summaries_str'], output_parser=None, partial_variables={}, template='Below is a list of article summaries, and their citations. Using ONLY the articles provided and no other articles, synthesize the information into a single paragraph summary. Cite the articles in-line appropriately and provide a list of articles cited at the end. Focus the summary on findings from studies with the strongest level of evidence (large sample size, strong study design, low risk of bias, etc).Using this summary, provide a one-line TL;DR answer to the following question, hedging appropriately given the strength of the evidence:\\n\\nQuestion: \"{question}\"\\n\\nArticle summaries:\\n\"\"\"{article_summaries_str}\"\"\"\\n\\nDesired format:\\nLiterature Summary: <summary_of_evidence>\\n\\nTL;DR: <answer_to_question>\\n\\nReferences:\\n1. <citation_1>\\n2. <citation_2>\\n3. <citation_3>\\n...\\n', template_format='f-string', validate_template=True)}}, '$order': ['pubmed_query_prompt', 'relevance_prompt', 'summarization_prompt', 'synthesize_prompt']}\n",
      "Filtered 50 papers down to 19 influential papers with at least 10 influential citations.\n",
      "user_prompt input_variables=['question', 'article_text'] output_parser=None partial_variables={} template='Summarize the evidence provided by this article abstract as it pertains to the question: \"{question}\", describe the study design, study size, study population, risks of bias:\\n\\nDesired format:\\nSummary: <summary_of_evidence>\\nStudy Design: <study_design>\\nSample Size: <study_size>\\nStudy Population: <study_population>\\nRisk of Bias: <risk_of_bias>\\n\\nAbstract: \"\"\"{article_text}\"\"\"' template_format='f-string' validate_template=True\n",
      "user_prompt input_variables=['question', 'article_text'] output_parser=None partial_variables={} template='Summarize the evidence provided by this article abstract as it pertains to the question: \"{question}\", describe the study design, study size, study population, risks of bias:\\n\\nDesired format:\\nSummary: <summary_of_evidence>\\nStudy Design: <study_design>\\nSample Size: <study_size>\\nStudy Population: <study_population>\\nRisk of Bias: <risk_of_bias>\\n\\nAbstract: \"\"\"{article_text}\"\"\"' template_format='f-string' validate_template=True\n",
      "user_prompt input_variables=['question', 'article_text'] output_parser=None partial_variables={} template='Summarize the evidence provided by this article abstract as it pertains to the question: \"{question}\", describe the study design, study size, study population, risks of bias:\\n\\nDesired format:\\nSummary: <summary_of_evidence>\\nStudy Design: <study_design>\\nSample Size: <study_size>\\nStudy Population: <study_population>\\nRisk of Bias: <risk_of_bias>\\n\\nAbstract: \"\"\"{article_text}\"\"\"' template_format='f-string' validate_template=True\n",
      "user_prompt input_variables=['question', 'article_text'] output_parser=None partial_variables={} template='Summarize the evidence provided by this article abstract as it pertains to the question: \"{question}\", describe the study design, study size, study population, risks of bias:\\n\\nDesired format:\\nSummary: <summary_of_evidence>\\nStudy Design: <study_design>\\nSample Size: <study_size>\\nStudy Population: <study_population>\\nRisk of Bias: <risk_of_bias>\\n\\nAbstract: \"\"\"{article_text}\"\"\"' template_format='f-string' validate_template=True\n",
      "user_prompt input_variables=['question', 'article_text'] output_parser=None partial_variables={} template='Summarize the evidence provided by this article abstract as it pertains to the question: \"{question}\", describe the study design, study size, study population, risks of bias:\\n\\nDesired format:\\nSummary: <summary_of_evidence>\\nStudy Design: <study_design>\\nSample Size: <study_size>\\nStudy Population: <study_population>\\nRisk of Bias: <risk_of_bias>\\n\\nAbstract: \"\"\"{article_text}\"\"\"' template_format='f-string' validate_template=True\n",
      "user_promptuser_prompt input_variables=['question', 'article_text'] output_parser=None partial_variables={} template='Summarize the evidence provided by this article abstract as it pertains to the question: \"{question}\", describe the study design, study size, study population, risks of bias:\\n\\nDesired format:\\nSummary: <summary_of_evidence>\\nStudy Design: <study_design>\\nSample Size: <study_size>\\nStudy Population: <study_population>\\nRisk of Bias: <risk_of_bias>\\n\\nAbstract: \"\"\"{article_text}\"\"\"' template_format='f-string' validate_template=True\n",
      " input_variables=['question', 'article_text'] output_parser=None partial_variables={} template='Summarize the evidence provided by this article abstract as it pertains to the question: \"{question}\", describe the study design, study size, study population, risks of bias:\\n\\nDesired format:\\nSummary: <summary_of_evidence>\\nStudy Design: <study_design>\\nSample Size: <study_size>\\nStudy Population: <study_population>\\nRisk of Bias: <risk_of_bias>\\n\\nAbstract: \"\"\"{article_text}\"\"\"' template_format='f-string' validate_template=True\n"
     ]
    },
    {
     "name": "stderr",
     "output_type": "stream",
     "text": [
      "Retrying langchain.chat_models.openai.ChatOpenAI.completion_with_retry.<locals>._completion_with_retry in 1.0 seconds as it raised RateLimitError: Rate limit reached for gpt-4 in organization org-SfN25uqrKlgiiS9AAszyjT1F on tokens per min (TPM): Limit 10000, Used 7239, Requested 3365. Please try again in 3.624s. Visit https://platform.openai.com/account/rate-limits to learn more..\n"
     ]
    },
    {
     "name": "stdout",
     "output_type": "stream",
     "text": [
      "user_prompt input_variables=['question', 'article_summaries_str'] output_parser=None partial_variables={} template='Below is a list of article summaries, and their citations. Using ONLY the articles provided and no other articles, synthesize the information into a single paragraph summary. Cite the articles in-line appropriately and provide a list of articles cited at the end. Focus the summary on findings from studies with the strongest level of evidence (large sample size, strong study design, low risk of bias, etc).Using this summary, provide a one-line TL;DR answer to the following question, hedging appropriately given the strength of the evidence:\\n\\nQuestion: \"{question}\"\\n\\nArticle summaries:\\n\"\"\"{article_summaries_str}\"\"\"\\n\\nDesired format:\\nLiterature Summary: <summary_of_evidence>\\n\\nTL;DR: <answer_to_question>\\n\\nReferences:\\n1. <citation_1>\\n2. <citation_2>\\n3. <citation_3>\\n...\\n' template_format='f-string' validate_template=True\n"
     ]
    },
    {
     "name": "stderr",
     "output_type": "stream",
     "text": [
      "Retrying langchain.chat_models.openai.ChatOpenAI.completion_with_retry.<locals>._completion_with_retry in 2.0 seconds as it raised RateLimitError: Rate limit reached for gpt-4 in organization org-SfN25uqrKlgiiS9AAszyjT1F on tokens per min (TPM): Limit 10000, Used 7046, Requested 3365. Please try again in 2.466s. Visit https://platform.openai.com/account/rate-limits to learn more..\n",
      "Retrying langchain.chat_models.openai.ChatOpenAI.completion_with_retry.<locals>._completion_with_retry in 4.0 seconds as it raised RateLimitError: Rate limit reached for gpt-4 in organization org-SfN25uqrKlgiiS9AAszyjT1F on tokens per min (TPM): Limit 10000, Used 6691, Requested 3365. Please try again in 336ms. Visit https://platform.openai.com/account/rate-limits to learn more..\n"
     ]
    },
    {
     "name": "stdout",
     "output_type": "stream",
     "text": [
      "=#=#=#=#=#=#=#=#=#=#=#=#=#=#=#=#=#=#=#=#\n",
      "Literature Summary: The prevalence of COVID-19 in the United States varies across studies, populations, and time periods. A study by Chiu and Ndeffo-Mbah (2021) estimated a nationwide prevalence of 1.4% and a seroprevalence of 13.2% as of December 31, 2020, using a Bayesian semi-empirical modeling framework[3]. A study by Jones et al. (2023) found that 96.4% of persons aged ≥16 years had SARS-CoV-2 antibodies by the third quarter of 2022[4]. The prevalence of COVID-19 was also found to be influenced by socioeconomic factors, with more disadvantaged neighborhoods having higher prevalence rates[2], and rural counties showing an increase in prevalence rates over time[5]. Prevalence rates among specific populations, such as dental hygienists, were reported to be low[1]. The use of at-home COVID-19 tests also increased significantly over time, indicating a possible rise in prevalence[6]. A study by Benatia et al. (2020) estimated a median population infection rate of 0.9% between March 31 and April 7, 2020, with variations across states[7].\n",
      "\n",
      "TL;DR: The prevalence of COVID-19 in the United States varies, with estimates ranging from 0.9% to 96.4% depending on the population, time period, and methodology of the study. Further research is needed for more accurate and up-to-date estimates.\n",
      "\n",
      "References:\n",
      "1. C. Estrich, J. Gurenlian, Ann Battrell, Sue K Bessner, Ann Lynch, Matthew C Mikkelsen, R. Morrissey, M. Araujo, M. Vujicic. COVID-19 Prevalence and Related Practices among Dental Hygienists in the United States. Journal of dental hygiene : JDH. 2021;.\n",
      "2. E. Hatef, Hsien-Yen Chang, C. Kitchen, J. Weiner, Hadi Kharrazi. Assessing the Impact of Neighborhood Socioeconomic Characteristics on COVID-19 Prevalence Across Seven States in the United States Frontiers in Public Health. 2020;.\n",
      "3. W. Chiu, M. Ndeffo-Mbah. Using test positivity and reported case rates to estimate state-level COVID-19 prevalence and seroprevalence in the United States PLoS Comput. Biol.. 2021;.\n",
      "4. Jefferson M. Jones, Irene Molina Manrique, Marsha Stone, E. Grebe, Paula Saá, C. D. Germanio, B. Spencer, E. Notari, Marjorie D. Bravo, Marion C Lanteri, Valerie Green, M. Briggs-Hagen, Melissa M. Coughlin, S. Stramer, J. Opsomer, M. Busch. Estimates of SARS-CoV-2 Seroprevalence and Incidence of Primary SARS-CoV-2 Infections Among Blood Donors, by COVID-19 Vaccination Status — United States, April 2021–September 2022 MMWR. Morbidity and mortality weekly report. 2023;.\n",
      "5. Rajib Paul, A. Arif, O. Adeyemi, Subhanwita Ghosh, Dan Han. Progression of COVID‐19 From Urban to Rural Areas in the United States: A Spatiotemporal Analysis of Prevalence Rates Journal of Rural Health. 2020;.\n",
      "6. B. Rader, A. Gertz, A. Iuliano, Matthew Gilmer, L. Wronski, C. Astley, K. Sewalk, T. Varrelman, Jon Cohen, Rishika Parikh, Heather Reese, Carrie Reed, J. Brownstein. Use of At-Home COVID-19 Tests — United States, August 23, 2021–March 12, 2022 MMWR. Morbidity and mortality weekly report. 2022;.\n",
      "7. David Benatia, R. Godefroy, Joshua Lewis. Estimating COVID-19 Prevalence in the United States: A Sample Selection Model Approach medRxiv. 2020;.\n"
     ]
    }
   ],
   "source": [
    "### Step 1 : Ask a question ###\n",
    "question    = \"What is the prevalence of COVID-19 in the United States?\"\n",
    "clinfo = ClinfoAI(openai_key=OPENAI_API_KEY, email= EMAIL,engine=\"SemanticScholar\")\n",
    "answer = clinfo.forward(question=question)         # Pipepline"
   ]
  },
  {
   "cell_type": "code",
   "execution_count": 3,
   "metadata": {},
   "outputs": [
    {
     "name": "stdout",
     "output_type": "stream",
     "text": [
      "dict_keys(['synthesis', 'article_summaries', 'irrelevant_articles', 'queries'])\n"
     ]
    }
   ],
   "source": [
    "# The answer dictionary contains all the outputs from each step of clinfo.ai (as explained in tutorial 01),\n",
    "print(answer.keys())"
   ]
  },
  {
   "cell_type": "code",
   "execution_count": 4,
   "metadata": {},
   "outputs": [
    {
     "name": "stdout",
     "output_type": "stream",
     "text": [
      "Literature Summary: The prevalence of COVID-19 in the United States varies across studies, populations, and time periods. A study by Chiu and Ndeffo-Mbah (2021) estimated a nationwide prevalence of 1.4% and a seroprevalence of 13.2% as of December 31, 2020, using a Bayesian semi-empirical modeling framework[3]. A study by Jones et al. (2023) found that 96.4% of persons aged ≥16 years had SARS-CoV-2 antibodies by the third quarter of 2022[4]. The prevalence of COVID-19 was also found to be influenced by socioeconomic factors, with more disadvantaged neighborhoods having higher prevalence rates[2], and rural counties showing an increase in prevalence rates over time[5]. Prevalence rates among specific populations, such as dental hygienists, were reported to be low[1]. The use of at-home COVID-19 tests also increased significantly over time, indicating a possible rise in prevalence[6]. A study by Benatia et al. (2020) estimated a median population infection rate of 0.9% between March 31 and April 7, 2020, with variations across states[7].\n",
      "\n",
      "TL;DR: The prevalence of COVID-19 in the United States varies, with estimates ranging from 0.9% to 96.4% depending on the population, time period, and methodology of the study. Further research is needed for more accurate and up-to-date estimates.\n",
      "\n",
      "References:\n",
      "1. C. Estrich, J. Gurenlian, Ann Battrell, Sue K Bessner, Ann Lynch, Matthew C Mikkelsen, R. Morrissey, M. Araujo, M. Vujicic. COVID-19 Prevalence and Related Practices among Dental Hygienists in the United States. Journal of dental hygiene : JDH. 2021;.\n",
      "2. E. Hatef, Hsien-Yen Chang, C. Kitchen, J. Weiner, Hadi Kharrazi. Assessing the Impact of Neighborhood Socioeconomic Characteristics on COVID-19 Prevalence Across Seven States in the United States Frontiers in Public Health. 2020;.\n",
      "3. W. Chiu, M. Ndeffo-Mbah. Using test positivity and reported case rates to estimate state-level COVID-19 prevalence and seroprevalence in the United States PLoS Comput. Biol.. 2021;.\n",
      "4. Jefferson M. Jones, Irene Molina Manrique, Marsha Stone, E. Grebe, Paula Saá, C. D. Germanio, B. Spencer, E. Notari, Marjorie D. Bravo, Marion C Lanteri, Valerie Green, M. Briggs-Hagen, Melissa M. Coughlin, S. Stramer, J. Opsomer, M. Busch. Estimates of SARS-CoV-2 Seroprevalence and Incidence of Primary SARS-CoV-2 Infections Among Blood Donors, by COVID-19 Vaccination Status — United States, April 2021–September 2022 MMWR. Morbidity and mortality weekly report. 2023;.\n",
      "5. Rajib Paul, A. Arif, O. Adeyemi, Subhanwita Ghosh, Dan Han. Progression of COVID‐19 From Urban to Rural Areas in the United States: A Spatiotemporal Analysis of Prevalence Rates Journal of Rural Health. 2020;.\n",
      "6. B. Rader, A. Gertz, A. Iuliano, Matthew Gilmer, L. Wronski, C. Astley, K. Sewalk, T. Varrelman, Jon Cohen, Rishika Parikh, Heather Reese, Carrie Reed, J. Brownstein. Use of At-Home COVID-19 Tests — United States, August 23, 2021–March 12, 2022 MMWR. Morbidity and mortality weekly report. 2022;.\n",
      "7. David Benatia, R. Godefroy, Joshua Lewis. Estimating COVID-19 Prevalence in the United States: A Sample Selection Model Approach medRxiv. 2020;.\n",
      "\n",
      "References:\n",
      "<ul><li><a href=\"https://www.semanticscholar.org/paper/7bc6eccfc0eb494002848e4d029e2008afb591d8\"   target=\"_blank\"> [1] C. Estrich, J. Gurenlian, Ann Battrell, Sue K Bessner, Ann Lynch, Matthew C Mikkelsen, R. Morrissey, M. Araujo, M. Vujicic. COVID-19 Prevalence and Related Practices among Dental Hygienists in the United States. Journal of dental hygiene : JDH. 2021;.</a></li>\n",
      "<li><a href=\"https://www.semanticscholar.org/paper/335b86bd387525960d38197efbc3d910adba614e\"   target=\"_blank\"> [2] E. Hatef, Hsien-Yen Chang, C. Kitchen, J. Weiner, Hadi Kharrazi. Assessing the Impact of Neighborhood Socioeconomic Characteristics on COVID-19 Prevalence Across Seven States in the United States Frontiers in Public Health. 2020;.</a></li>\n",
      "<li><a href=\"https://www.semanticscholar.org/paper/80dc188e87f7a9d8f7641b82ab86952a0a1125d3\"   target=\"_blank\"> [3] W. Chiu, M. Ndeffo-Mbah. Using test positivity and reported case rates to estimate state-level COVID-19 prevalence and seroprevalence in the United States PLoS Comput. Biol.. 2021;.</a></li>\n",
      "<li><a href=\"https://www.semanticscholar.org/paper/6b760d5445ba535fe34d0ee99f41dbdd3f5105c6\"   target=\"_blank\"> [4] Jefferson M. Jones, Irene Molina Manrique, Marsha Stone, E. Grebe, Paula Saá, C. D. Germanio, B. Spencer, E. Notari, Marjorie D. Bravo, Marion C Lanteri, Valerie Green, M. Briggs-Hagen, Melissa M. Coughlin, S. Stramer, J. Opsomer, M. Busch. Estimates of SARS-CoV-2 Seroprevalence and Incidence of Primary SARS-CoV-2 Infections Among Blood Donors, by COVID-19 Vaccination Status — United States, April 2021–September 2022 MMWR. Morbidity and mortality weekly report. 2023;.</a></li>\n",
      "<li><a href=\"https://www.semanticscholar.org/paper/11ed0d909831a2b682f3e82e7c9509b498ecd4f7\"   target=\"_blank\"> [5] Rajib Paul, A. Arif, O. Adeyemi, Subhanwita Ghosh, Dan Han. Progression of COVID‐19 From Urban to Rural Areas in the United States: A Spatiotemporal Analysis of Prevalence Rates Journal of Rural Health. 2020;.</a></li>\n",
      "<li><a href=\"https://www.semanticscholar.org/paper/ac076b5d0489bb13e1e7405ae019bddca6e80589\"   target=\"_blank\"> [6] B. Rader, A. Gertz, A. Iuliano, Matthew Gilmer, L. Wronski, C. Astley, K. Sewalk, T. Varrelman, Jon Cohen, Rishika Parikh, Heather Reese, Carrie Reed, J. Brownstein. Use of At-Home COVID-19 Tests — United States, August 23, 2021–March 12, 2022 MMWR. Morbidity and mortality weekly report. 2022;.</a></li>\n",
      "<li><a href=\"https://www.semanticscholar.org/paper/88f96d713095b8c1eb6cccd44734da9956f8374e\"   target=\"_blank\"> [7] David Benatia, R. Godefroy, Joshua Lewis. Estimating COVID-19 Prevalence in the United States: A Sample Selection Model Approach medRxiv. 2020;.</a></li></ul>\n"
     ]
    }
   ],
   "source": [
    "print(answer[\"synthesis\"])"
   ]
  }
 ],
 "metadata": {
  "kernelspec": {
   "display_name": "clinfo_ai",
   "language": "python",
   "name": "python3"
  },
  "language_info": {
   "codemirror_mode": {
    "name": "ipython",
    "version": 3
   },
   "file_extension": ".py",
   "mimetype": "text/x-python",
   "name": "python",
   "nbconvert_exporter": "python",
   "pygments_lexer": "ipython3",
   "version": "3.9.16"
  },
  "orig_nbformat": 4
 },
 "nbformat": 4,
 "nbformat_minor": 2
}
