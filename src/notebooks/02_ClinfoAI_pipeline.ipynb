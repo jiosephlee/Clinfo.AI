{
 "cells": [
  {
   "cell_type": "code",
   "execution_count": 1,
   "metadata": {},
   "outputs": [],
   "source": [
    "import sys\n",
    "import os \n",
    "sys.path.append('..')\n",
    "\n",
    "from utils.clinfoAI import ClinfoAI, ClinfoAIForQA\n",
    "\n",
    "from config        import OPENAI_API_KEY, NCBI_API_KEY, EMAIL\n",
    "os.environ[\"OPENAI_API_KEY\"] = OPENAI_API_KEY"
   ]
  },
  {
   "cell_type": "markdown",
   "metadata": {},
   "source": [
    "# Using Clinfo.AI (In Depth Tutorial)\n",
    "\n",
    "In this tutorial, we will see how to run clinfo.ai in as a module, in which all the steps have been abstracted. \n",
    "\n",
    "If you have done tutorial 01, you can skip the next steps, if not, you will need to follow them to get the credentials, KEYs needed to run clinfo.ai\n",
    "\n",
    "### 1.- Setting up enviorment:\n",
    "1.a.- Install the conda enviroment using the yml file provided.\n",
    "\n",
    "``` conda env create -f environment.yaml ```\n",
    "\n",
    "1.b.- Select your enviorment to run notebook. I recommend using vscode: \n",
    "\n",
    "\n",
    "\n",
    "### 2.- Creating Accounts\n",
    "\n",
    "You will need at least one account and at most two (depending on how many calls/hour you plan to do):\n",
    "* OPENAI account: If you start a free account for the first time, you will get $5 in API credits.\n",
    "* NCBI_API_KEY: This is only necessary if you plan to make more than 10 calls per hour.\n",
    "\n",
    "\n",
    "Once you have created both accounts  go to **src\\config.py** file and: \n",
    "\n",
    "* Set OPENAI_API_KEY to your openAI API key\n",
    "\n",
    "If you created an NCBI API account add your key and email in the following values: \n",
    "* NCBI_API_KEY \n",
    "* EMAIL \n",
    "Otherwise leave them as None\n",
    "\n",
    "\n",
    "\n",
    "\n",
    "\n",
    "### 3.- Defining your own promts:\n",
    "We have designed prompts for each step of Clinfo.ai Workflow, leaveriging the power of in-contex-learning. If you want to us your own promps you can edit them **src\\prompts**\n"
   ]
  },
  {
   "cell_type": "code",
   "execution_count": 2,
   "metadata": {},
   "outputs": [
    {
     "name": "stdout",
     "output_type": "stream",
     "text": [
      "\n",
      "Task Name: pubmed_query_prompt\n",
      "------------------------------------------------------------------------\n",
      "\n",
      "Task Name: relevance_prompt\n",
      "------------------------------------------------------------------------\n",
      "\n",
      "Task Name: summarization_prompt\n",
      "------------------------------------------------------------------------\n",
      "\n",
      "Task Name: synthesize_prompt\n",
      "------------------------------------------------------------------------\n",
      "\n",
      "Task Name: QA_prompt\n",
      "------------------------------------------------------------------------\n",
      "PubMed Retriever Initialized\n",
      "-------retrieving articles-------\n",
      "********************************************************\n",
      "Generated pubmed query: (\"Alzheimer disease\" OR \"Alzheimer's disease\") AND (\"hepatocytes\" OR \"liver cells\") AND (\"golden cytoplasmic granules\") NOT \"Prussian blue\" NOT \"congestive heart failure\" NOT \"diabetic ketoacidosis\" NOT \"advanced age\" AND 2010/12/31:2020/12/31[dp]\n",
      "\n",
      "Retrieved 0 IDs\n",
      "[]\n",
      "Search IDs: set()\n",
      "********************************************************\n",
      "Generated pubmed query: (\"90-year-old\" OR \"elderly\" OR \"geriatric\") AND (\"diabetes\" OR \"diabetic\") AND (\"Alzheimer's disease\" OR \"Alzheimer disease\") AND (\"hepatocytes\" OR \"liver\" OR \"cytoplasmic granules\") AND 2010/12/31:2020/12/31[dp]\n",
      "\n",
      "Retrieved 10 IDs\n",
      "['26799652', '30328186', '31643956', '30479462', '28403222', '28775688', '26886565', '25792373', '30040733', '28056068']\n",
      "Search IDs: {'26799652', '31643956', '30479462', '28403222', '26886565', '30040733', '28775688', '28056068', '30328186', '25792373'}\n",
      "********************************************************\n",
      "Generated pubmed query: (\"90-year-old\" OR \"elderly\") AND (\"diabetes\" OR \"diabetic\") AND (\"Alzheimer's disease\" OR \"Alzheimer disease\") AND (\"hepatocytes\" OR \"liver\") AND (\"golden granules\" OR \"golden pigment\") AND 2010/12/31:2020/12/31[dp]\n",
      "\n",
      "Retrieved 0 IDs\n",
      "[]\n",
      "Search IDs: {'26799652', '31643956', '30479462', '28403222', '26886565', '30040733', '28775688', '28056068', '30328186', '25792373'}\n",
      "----------summarizing relevant articles---------\n",
      "Could not find 'Abstract' for article with PMID = 26799652\n",
      "number of relevant articles:  3\n",
      "------synthesizing------\n",
      "Using BM25 to rank articles\n",
      "------processing summaries into readable form-------\n",
      "------getting prompts------\n",
      "content=\"You are a helpful expert medical researcher that is excellent at answering clinicians' questions.\" additional_kwargs={}\n",
      "content='Below is a list of article summaries. Based on the article summaries and your knowledge answer the question, answer the question below.\\n\\nArticle summaries:\\n\"\"\"Summary: The study aimed to analyze insulin-degrading enzyme (IDE) expression in brain structures involved in Alzheimer\\'s disease (AD) and in peripheral organs of rats during natural aging and after experimentally-induced diabetes. The results showed a significant decrease in IDE mRNA and protein content in the liver and brain structures with aging, while diabetic animals exhibited increased IDE protein levels in the liver and striatum but decreased levels in the brain cortex and hippocampus.\\n\\nStudy Design: Comparative analysis\\n\\nSample Size: Not specified\\n\\nStudy Population: Rats\\n\\nRisk of Bias: The study did not specify the sample size, which could impact the generalizability of the findings. Additionally, the study was conducted on rats, so extrapolating the results directly to humans may have limitations.\"\"\"\\n\\nQuestion: A 90-year-old woman with mild diabetes and Alzheimer\\'s disease die in her sleep. At autopsy, hepatocytes are noted to contain golden cytoplasmic granules that do not stain with Prussian blue. Which of the following best accounts for pigment accumulation in the liver of this patient?\\nA.Advanced age\\nB.Alzheimer disease\\nC.Congestive hea failure\\nD.Diabetic ketoacidosis\\n\\nAnswer: The option is:\\n\\n' additional_kwargs={}\n",
      "------getting response------\n"
     ]
    }
   ],
   "source": [
    "### Step 1 : Ask a question ###\n",
    "question = \"Question: A 90-year-old woman with mild diabetes and Alzheimer's disease die in her sleep. At autopsy, hepatocytes are noted to contain golden cytoplasmic granules that do not stain with Prussian blue. Which of the following best accounts for pigment accumulation in the liver of this patient?\\nA.Advanced age\\nB.Alzheimer disease\\nC.Congestive hea failure\\nD.Diabetic ketoacidosis\\n\\nAnswer: The option is:\"\n",
    "clinfo = ClinfoAIForQA(openai_key=OPENAI_API_KEY, email= EMAIL,engine=\"PubMed\")\n",
    "answer = clinfo.forward(question=question, restriction_date='2020/12/31')         # Pipepline"
   ]
  },
  {
   "cell_type": "code",
   "execution_count": 3,
   "metadata": {},
   "outputs": [
    {
     "name": "stdout",
     "output_type": "stream",
     "text": [
      "B. Alzheimer disease\n",
      "\n",
      "Based on the article summary provided, the study found that diabetic animals exhibited increased insulin-degrading enzyme (IDE) protein levels in the liver. Since the patient had both mild diabetes and Alzheimer's disease, it is likely that the accumulation of golden cytoplasmic granules in hepatocytes, which do not stain with Prussian blue, could be related to Alzheimer's disease pathology affecting IDE levels in the liver.\n"
     ]
    }
   ],
   "source": [
    "# The answer dictionary contains all the outputs from each step of clinfo.ai (as explained in tutorial 01),\n",
    "print(answer)"
   ]
  },
  {
   "cell_type": "code",
   "execution_count": 4,
   "metadata": {},
   "outputs": [
    {
     "name": "stdout",
     "output_type": "stream",
     "text": [
      "Literature Summary: The prevalence of COVID-19 in the United States varies across studies, populations, and time periods. A study by Chiu and Ndeffo-Mbah (2021) estimated a nationwide prevalence of 1.4% and a seroprevalence of 13.2% as of December 31, 2020, using a Bayesian semi-empirical modeling framework[3]. A study by Jones et al. (2023) found that 96.4% of persons aged ≥16 years had SARS-CoV-2 antibodies by the third quarter of 2022[4]. The prevalence of COVID-19 was also found to be influenced by socioeconomic factors, with more disadvantaged neighborhoods having higher prevalence rates[2], and rural counties showing an increase in prevalence rates over time[5]. Prevalence rates among specific populations, such as dental hygienists, were reported to be low[1]. The use of at-home COVID-19 tests also increased significantly over time, indicating a possible rise in prevalence[6]. A study by Benatia et al. (2020) estimated a median population infection rate of 0.9% between March 31 and April 7, 2020, with variations across states[7].\n",
      "\n",
      "TL;DR: The prevalence of COVID-19 in the United States varies, with estimates ranging from 0.9% to 96.4% depending on the population, time period, and methodology of the study. Further research is needed for more accurate and up-to-date estimates.\n",
      "\n",
      "References:\n",
      "1. C. Estrich, J. Gurenlian, Ann Battrell, Sue K Bessner, Ann Lynch, Matthew C Mikkelsen, R. Morrissey, M. Araujo, M. Vujicic. COVID-19 Prevalence and Related Practices among Dental Hygienists in the United States. Journal of dental hygiene : JDH. 2021;.\n",
      "2. E. Hatef, Hsien-Yen Chang, C. Kitchen, J. Weiner, Hadi Kharrazi. Assessing the Impact of Neighborhood Socioeconomic Characteristics on COVID-19 Prevalence Across Seven States in the United States Frontiers in Public Health. 2020;.\n",
      "3. W. Chiu, M. Ndeffo-Mbah. Using test positivity and reported case rates to estimate state-level COVID-19 prevalence and seroprevalence in the United States PLoS Comput. Biol.. 2021;.\n",
      "4. Jefferson M. Jones, Irene Molina Manrique, Marsha Stone, E. Grebe, Paula Saá, C. D. Germanio, B. Spencer, E. Notari, Marjorie D. Bravo, Marion C Lanteri, Valerie Green, M. Briggs-Hagen, Melissa M. Coughlin, S. Stramer, J. Opsomer, M. Busch. Estimates of SARS-CoV-2 Seroprevalence and Incidence of Primary SARS-CoV-2 Infections Among Blood Donors, by COVID-19 Vaccination Status — United States, April 2021–September 2022 MMWR. Morbidity and mortality weekly report. 2023;.\n",
      "5. Rajib Paul, A. Arif, O. Adeyemi, Subhanwita Ghosh, Dan Han. Progression of COVID‐19 From Urban to Rural Areas in the United States: A Spatiotemporal Analysis of Prevalence Rates Journal of Rural Health. 2020;.\n",
      "6. B. Rader, A. Gertz, A. Iuliano, Matthew Gilmer, L. Wronski, C. Astley, K. Sewalk, T. Varrelman, Jon Cohen, Rishika Parikh, Heather Reese, Carrie Reed, J. Brownstein. Use of At-Home COVID-19 Tests — United States, August 23, 2021–March 12, 2022 MMWR. Morbidity and mortality weekly report. 2022;.\n",
      "7. David Benatia, R. Godefroy, Joshua Lewis. Estimating COVID-19 Prevalence in the United States: A Sample Selection Model Approach medRxiv. 2020;.\n",
      "\n",
      "References:\n",
      "<ul><li><a href=\"https://www.semanticscholar.org/paper/7bc6eccfc0eb494002848e4d029e2008afb591d8\"   target=\"_blank\"> [1] C. Estrich, J. Gurenlian, Ann Battrell, Sue K Bessner, Ann Lynch, Matthew C Mikkelsen, R. Morrissey, M. Araujo, M. Vujicic. COVID-19 Prevalence and Related Practices among Dental Hygienists in the United States. Journal of dental hygiene : JDH. 2021;.</a></li>\n",
      "<li><a href=\"https://www.semanticscholar.org/paper/335b86bd387525960d38197efbc3d910adba614e\"   target=\"_blank\"> [2] E. Hatef, Hsien-Yen Chang, C. Kitchen, J. Weiner, Hadi Kharrazi. Assessing the Impact of Neighborhood Socioeconomic Characteristics on COVID-19 Prevalence Across Seven States in the United States Frontiers in Public Health. 2020;.</a></li>\n",
      "<li><a href=\"https://www.semanticscholar.org/paper/80dc188e87f7a9d8f7641b82ab86952a0a1125d3\"   target=\"_blank\"> [3] W. Chiu, M. Ndeffo-Mbah. Using test positivity and reported case rates to estimate state-level COVID-19 prevalence and seroprevalence in the United States PLoS Comput. Biol.. 2021;.</a></li>\n",
      "<li><a href=\"https://www.semanticscholar.org/paper/6b760d5445ba535fe34d0ee99f41dbdd3f5105c6\"   target=\"_blank\"> [4] Jefferson M. Jones, Irene Molina Manrique, Marsha Stone, E. Grebe, Paula Saá, C. D. Germanio, B. Spencer, E. Notari, Marjorie D. Bravo, Marion C Lanteri, Valerie Green, M. Briggs-Hagen, Melissa M. Coughlin, S. Stramer, J. Opsomer, M. Busch. Estimates of SARS-CoV-2 Seroprevalence and Incidence of Primary SARS-CoV-2 Infections Among Blood Donors, by COVID-19 Vaccination Status — United States, April 2021–September 2022 MMWR. Morbidity and mortality weekly report. 2023;.</a></li>\n",
      "<li><a href=\"https://www.semanticscholar.org/paper/11ed0d909831a2b682f3e82e7c9509b498ecd4f7\"   target=\"_blank\"> [5] Rajib Paul, A. Arif, O. Adeyemi, Subhanwita Ghosh, Dan Han. Progression of COVID‐19 From Urban to Rural Areas in the United States: A Spatiotemporal Analysis of Prevalence Rates Journal of Rural Health. 2020;.</a></li>\n",
      "<li><a href=\"https://www.semanticscholar.org/paper/ac076b5d0489bb13e1e7405ae019bddca6e80589\"   target=\"_blank\"> [6] B. Rader, A. Gertz, A. Iuliano, Matthew Gilmer, L. Wronski, C. Astley, K. Sewalk, T. Varrelman, Jon Cohen, Rishika Parikh, Heather Reese, Carrie Reed, J. Brownstein. Use of At-Home COVID-19 Tests — United States, August 23, 2021–March 12, 2022 MMWR. Morbidity and mortality weekly report. 2022;.</a></li>\n",
      "<li><a href=\"https://www.semanticscholar.org/paper/88f96d713095b8c1eb6cccd44734da9956f8374e\"   target=\"_blank\"> [7] David Benatia, R. Godefroy, Joshua Lewis. Estimating COVID-19 Prevalence in the United States: A Sample Selection Model Approach medRxiv. 2020;.</a></li></ul>\n"
     ]
    }
   ],
   "source": [
    "print(answer[\"synthesis\"])"
   ]
  },
  {
   "cell_type": "code",
   "execution_count": null,
   "metadata": {},
   "outputs": [],
   "source": []
  }
 ],
 "metadata": {
  "kernelspec": {
   "display_name": "clinfo_ai",
   "language": "python",
   "name": "python3"
  },
  "language_info": {
   "codemirror_mode": {
    "name": "ipython",
    "version": 3
   },
   "file_extension": ".py",
   "mimetype": "text/x-python",
   "name": "python",
   "nbconvert_exporter": "python",
   "pygments_lexer": "ipython3",
   "version": "3.9.16"
  },
  "orig_nbformat": 4
 },
 "nbformat": 4,
 "nbformat_minor": 2
}
